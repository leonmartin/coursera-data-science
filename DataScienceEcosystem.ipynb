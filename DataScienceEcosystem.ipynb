{
 "cells": [
  {
   "cell_type": "markdown",
   "id": "acec25bc-5fe2-48d4-a4ed-86bcb90005f1",
   "metadata": {},
   "source": [
    "# Data Science and Ecosystem"
   ]
  },
  {
   "cell_type": "markdown",
   "id": "d6275cfe-f776-42ee-afbe-8172eec1298d",
   "metadata": {},
   "source": [
    "In this notebook, Data Science tools and Ecosystem are summarized."
   ]
  },
  {
   "cell_type": "markdown",
   "id": "1186c603-c83b-4414-b3b7-1e2567aca8f5",
   "metadata": {},
   "source": [
    "__Objectives:__\n",
    "\n",
    "* List popular languages for Data Science\n",
    "* List popular libraries for Data Science\n",
    "* List popular tools for Data Science\n",
    "* Demonstrate the evaluation of simple arithmetic expressions in Jupyter Notebooks"
   ]
  },
  {
   "cell_type": "markdown",
   "id": "02fe8d64-4b61-4a5b-998e-11c6a443b425",
   "metadata": {},
   "source": [
    "Some of the popular languages that Data Scientists use are:\n",
    "\n",
    "1. Python\n",
    "2. R\n",
    "3. Julia"
   ]
  },
  {
   "cell_type": "markdown",
   "id": "ffe98474-a8f7-4de3-8cbb-791225232934",
   "metadata": {},
   "source": [
    "Some of the commonly used libraries used by Data Scientists include:\n",
    "\n",
    "1. scikit-learn\n",
    "2. pandas\n",
    "3. matplotlib\n",
    "4. numpy\n",
    "5. keras\n",
    "6. tensorflow"
   ]
  },
  {
   "cell_type": "markdown",
   "id": "f1eebfd7-0573-44e8-a847-4c25355a1f4f",
   "metadata": {},
   "source": [
    "| Data Science Tools |\n",
    "| - |\n",
    "| Jupyter Notebooks |\n",
    "| RStudio |\n",
    "| Docker |\n",
    "| Visual Studio Code |"
   ]
  },
  {
   "cell_type": "markdown",
   "id": "5423ad2e-1c5c-4fd8-a3ac-2d8cf1304b95",
   "metadata": {},
   "source": [
    "### Below are a few examples of evaluating arithmetic expressions in Python"
   ]
  },
  {
   "cell_type": "code",
   "execution_count": 2,
   "id": "39bead86-e054-4a5d-9964-f7844354c0f3",
   "metadata": {
    "tags": []
   },
   "outputs": [
    {
     "data": {
      "text/plain": [
       "17"
      ]
     },
     "execution_count": 2,
     "metadata": {},
     "output_type": "execute_result"
    }
   ],
   "source": [
    "# This a simple arithmetic expression to mutiply then add integers\n",
    "(3*4)+5"
   ]
  },
  {
   "cell_type": "code",
   "execution_count": 4,
   "id": "eb5931dd-78c6-43bc-9b94-3529a21ab00b",
   "metadata": {
    "tags": []
   },
   "outputs": [
    {
     "data": {
      "text/plain": [
       "3.3333333333333335"
      ]
     },
     "execution_count": 4,
     "metadata": {},
     "output_type": "execute_result"
    }
   ],
   "source": [
    "# This will convert 200 minutes to hours by dividing by 60\n",
    "200/60"
   ]
  },
  {
   "cell_type": "markdown",
   "id": "b713446e-f1b9-4a26-8ab7-84156772ec69",
   "metadata": {},
   "source": [
    "## Author\n",
    "\n",
    "Peter Zwegat"
   ]
  },
  {
   "cell_type": "code",
   "execution_count": null,
   "id": "a8e5c9ec-6d6f-463d-adf8-e3285dabb1a9",
   "metadata": {},
   "outputs": [],
   "source": []
  }
 ],
 "metadata": {
  "kernelspec": {
   "display_name": "Python",
   "language": "python",
   "name": "conda-env-python-py"
  },
  "language_info": {
   "codemirror_mode": {
    "name": "ipython",
    "version": 3
   },
   "file_extension": ".py",
   "mimetype": "text/x-python",
   "name": "python",
   "nbconvert_exporter": "python",
   "pygments_lexer": "ipython3",
   "version": "3.7.12"
  }
 },
 "nbformat": 4,
 "nbformat_minor": 5
}
